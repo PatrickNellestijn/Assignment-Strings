{
  "nbformat": 4,
  "nbformat_minor": 0,
  "metadata": {
    "kernelspec": {
      "display_name": "Python 3",
      "language": "python",
      "name": "python3"
    },
    "language_info": {
      "codemirror_mode": {
        "name": "ipython",
        "version": 3
      },
      "file_extension": ".py",
      "mimetype": "text/x-python",
      "name": "python",
      "nbconvert_exporter": "python",
      "pygments_lexer": "ipython3",
      "version": "3.9.5"
    },
    "colab": {
      "name": "assignment-retail (1).ipynb",
      "provenance": [],
      "collapsed_sections": [
        "BvJzZ0WK426o",
        "hMTNZfGI426r"
      ],
      "include_colab_link": true
    }
  },
  "cells": [
    {
      "cell_type": "markdown",
      "metadata": {
        "id": "view-in-github",
        "colab_type": "text"
      },
      "source": [
        "<a href=\"https://colab.research.google.com/github/PatrickNellestijn/Assignment-Strings/blob/main/assignment_retail_(patrick.nellestijn).ipynb\" target=\"_parent\"><img src=\"https://colab.research.google.com/assets/colab-badge.svg\" alt=\"Open In Colab\"/></a>"
      ]
    },
    {
      "cell_type": "markdown",
      "metadata": {
        "id": "xUtX_ouh426G"
      },
      "source": [
        "<img src=\"https://static.wincacademy.nl/logos/main-logo.png\" height=200px style=\"height: 200px\"/>"
      ]
    },
    {
      "cell_type": "code",
      "metadata": {
        "id": "AUYC_0l-5LiX",
        "colab": {
          "base_uri": "https://localhost:8080/"
        },
        "outputId": "3d076154-e320-4948-8793-cf9c29baa310"
      },
      "source": [
        "\n",
        "\n",
        "\n",
        "\n",
        "from google.colab import drive\n",
        "drive.mount('/content/drive')"
      ],
      "execution_count": 2,
      "outputs": [
        {
          "output_type": "stream",
          "text": [
            "Drive already mounted at /content/drive; to attempt to forcibly remount, call drive.mount(\"/content/drive\", force_remount=True).\n"
          ],
          "name": "stdout"
        }
      ]
    },
    {
      "cell_type": "markdown",
      "metadata": {
        "id": "HqEeJ6MV426M"
      },
      "source": [
        "# Assignment: Retail\n",
        "\n",
        "Congratulations! You've reached the final assignment for the course before the bonus modules. Here we'll ask you to work with a dataset from the Dutch *Centraal Bureau voor de Statistiek* (CBS, English: Statistics Netherlands). It contains monthly growth percentages for various branches of the retail sector. You'll be required to answer open questions as well as write code that handles the data and crunches numbers.\n",
        "\n",
        "*Answer open questions as though you were writing a report. Answers that are too vague, too short or too sloppy will be rejected.*"
      ]
    },
    {
      "cell_type": "markdown",
      "metadata": {
        "id": "2WIw2AK3426Q"
      },
      "source": [
        "## 0. Load required modules\n",
        "\n",
        "First, we need to load some modules that we're going to use. Do that in the next code cell. If you don't know yet which modules you'll use, just read on and come back here to import them later. **Don't forget to run the cell whenever you make an edit!**"
      ]
    },
    {
      "cell_type": "code",
      "metadata": {
        "id": "Uev26cuq426S"
      },
      "source": [
        "import csv\n",
        "import pandas as pd\n",
        "from datetime import datetime\n"
      ],
      "execution_count": 258,
      "outputs": []
    },
    {
      "cell_type": "markdown",
      "metadata": {
        "id": "eiwr2hlU426U"
      },
      "source": [
        "## 1. Data Preparation\n",
        "Now we need to load and parse the data. The data should be located in the same folder as this notebook (whether that's on Google Colab or your local machine). Make sure you have working file path from your notebook to the supplied `data.csv` file. Put an `x` in the checkbox below when you're ready.\n",
        "\n",
        "- [x] *I have a working file path to the `data.csv` file.*\n",
        "\n",
        "You are now ready to proceed with reading the data into your program.\n",
        "\n",
        "### 1.1 Read the CSV\n",
        "\n",
        "The data comes in the form of a `csv`-file. CSV stands for 'comma separated values'. Oddly enough it need not be the case that the values are *really* separated by commas. In this case, the **delimiter** - the character that separates the columns within a datapoint - is *not* a comma. It's up to you to inspect `data.csv` and find out what the delimiter is.\n",
        "\n",
        "Once you know what the delimiter is, you can use Python's `csv` module to read each of the datapoints to a dictionary. Some tips:\n",
        "\n",
        "- The module's name is `csv`.\n",
        "- You can find its documentation [here](https://docs.python.org/3/library/csv.html)\n",
        "- We suggest you use the `DictReader` class. There's an example on how to use `DictReader` in the linked documentation.\n",
        "- Instead of printing the rows (like in the example), we suggest you store all the rows as `dict`s in a `list`.\n",
        "\n",
        "**1. In the code cell below, write code that opens and reads the data. By the end of the cell, you should have a variable `data` that is a list of dictionaries that each contain a datapoint.**"
      ]
    },
    {
      "cell_type": "code",
      "metadata": {
        "id": "lDDkjWAA426W"
      },
      "source": [
        "#Your code here\n",
        "data = []\n",
        "with open('/retail-data.csv') as csv_file:\n",
        "    reader = csv.DictReader(csv_file, delimiter=';')\n",
        "    for row in reader:\n",
        "        data.append(row)"
      ],
      "execution_count": 280,
      "outputs": []
    },
    {
      "cell_type": "markdown",
      "metadata": {
        "id": "X1FoAfJX426X"
      },
      "source": [
        "### 1.2 Parse and clean the data\n",
        "\n",
        "You now have a list of dictionaries that each contain some data. But what data? Answer the following questions to become familiar with this dataset. It requires you to write and execute Python code (you can add code cells if you wish), and also search the web for terms you're not familiar with.\n",
        "\n",
        "**2. What are the column names in this dataset, and what do they mean? Be specific.**\n",
        "\n",
        "*TODO: Your answer here.*\n",
        "Bedrijfstakken/branches (SBI2008)\n",
        "Perioden\n",
        "Omzet ongecorrigeerd/Indexcijfers/Waarde(2015=100)\n",
        "Omzet ongecorrigeerde/Indexcijfers/Volume(2015=100)\n",
        "\n",
        "**3. For each column, list what data type it should have (`str`, `int`, `float` or `datetime.date`).**\n",
        "\n",
        "*TODO: Your answer here.*\n",
        "Kolom 1 = 'Str'\n",
        "Kolom 2 = 'Float'\n",
        "Kolom 3 = 'Float'\n",
        "Kolom 4 = 'datetime.date'\n",
        "\n",
        "    \n",
        "**4. In the code cell below, write code that changes the column names to something more convenient for writing readable code. Be sure to choose English, correct and meaningful names.**"
      ]
    },
    {
      "cell_type": "code",
      "metadata": {
        "id": "bwZ7XDThJc48"
      },
      "source": [
        "#Your code here\n",
        "for row in data:\n",
        " row['branches'] = row.pop('Bedrijfstakken/branches (SBI 2008)')\n",
        " row['periods'] = row.pop('Perioden')\n",
        " row['turnover_value'] = row.pop('Omzet ongecorrigeerd/Indexcijfers/Waarde (2015=100)')\n",
        " row['turnover_volume'] = row.pop('Omzet ongecorrigeerd/Indexcijfers/Volume (2015=100)')"
      ],
      "execution_count": 281,
      "outputs": []
    },
    {
      "cell_type": "markdown",
      "metadata": {
        "id": "_JRWl8Gz426Z"
      },
      "source": [
        "**5. In the code cell below, write code that casts all the data to the right type.**\n",
        "\n",
        "Tips:\n",
        "- If you overwite your data, running the casting operation you're about to implement more than once might result in errors. In that case you can opt not to reuse a variable or restart and rerun your notebook for every retry.\n",
        "- The data is in Dutch. For some columns this does not matter, but for one in particular it makes parsing it a little bit harder. There is a way to handle this in a few lines of code. You'll need Python's `locale` module for this, as well as the special string `'nl_NL.UTF-8'`. If you're not sure how to use this information after searching the web for a while, it's OK to take the long way around and write custom code to handle the Dutch words. *Note: Google Colab does not support the Dutch locale at this time. If you use Google Colab, you unfortunately can't use the `locale` trick and must write extra code yourself to handle the Dutch dates.*\n",
        "- The parsing script is bound to run into errors. **Do not modify the data file on disk.** Carefully read the error, examine why it works on most values and crashes on some others, and apply a fix in your code! We'll give you some tips:\n",
        "    - A handful of values in the `Perioden`-column might cause an error due to an unexpected character. You can safely ignore that character.\n",
        "    - Handle missing numerical values by replacing them with `-1.`. Be sure to maintain the correct datatype for that column!"
      ]
    },
    {
      "cell_type": "code",
      "metadata": {
        "id": "kEumS_qh426c"
      },
      "source": [
        "def translate_period(period_string):\n",
        "  translation = {\n",
        "       \"january\" : \"January\",\n",
        "       \"februari\" : \"February\",\n",
        "       \"maart\" : \"March\",\n",
        "       \"april\" : \"April\",\n",
        "       \"mei\" : \"May\",\n",
        "       \"juni\" : \"June\",\n",
        "       \"juli\" : \"July\",\n",
        "       \"augustus\" : \"August\",\n",
        "       \"september\" : \"September\",\n",
        "       \"oktober\" : \"October\",\n",
        "       \"november\" : \"November\",\n",
        "       \"december\" : \"December\"\n",
        "  }\n",
        "  for k, v in translation.items():\n",
        "    period_string = period_string.replace(k, v)\n",
        "  return period_string \n",
        "  from datetime import datetime\n",
        "  datetime.strptime(months(row['periods']), \"%Y %B\") "
      ],
      "execution_count": 282,
      "outputs": []
    },
    {
      "cell_type": "markdown",
      "metadata": {
        "id": "qkmv8Yjn426f"
      },
      "source": [
        "## 2. Data Exploration\n",
        "\n",
        "You are now ready to explore the data.\n",
        "\n",
        "**6. In the code cell below, print the following metadata. Format the printed text in a nice and tidy way. Put an `x` in the checkboxes when you've succeeded.**\n",
        "\n",
        "- [x] **The number of datapoints in the dataset.**\n",
        "- [x] **The number of unique branches of the retail sector the data covers.**\n",
        "- [x] **The first month covered by the data.**\n",
        "- [x] **The last month covered by the data.**"
      ]
    },
    {
      "cell_type": "code",
      "metadata": {
        "id": "O3t5dVRL426h",
        "colab": {
          "base_uri": "https://localhost:8080/"
        },
        "outputId": "4c7e9257-9fb7-4f00-be56-539143103fa9"
      },
      "source": [
        "#Your code here\n",
        "period = row['periods'].replace('*','').strip()\n",
        "print('Number of datapoints in dataset: ', len(data))\n",
        "branches = set([row['branches'] for row in data])\n",
        "print('Number of unique branches of the retail sector: ', len(branches))\n",
        "for row in data:\n",
        "  period = row['periods']\n",
        "  period = list(set(periods))\n",
        "  period.sort()\n",
        "print('first month covered by data: ', periods[0])\n",
        "print('last month covered by data: ', periods[-1])"
      ],
      "execution_count": 283,
      "outputs": [
        {
          "output_type": "stream",
          "text": [
            "Number of datapoints in dataset:  3120\n",
            "Number of unique branches of the retail sector:  16\n",
            "first month covered by data:  2005 april\n",
            "last month covered by data:  2021 maart*\n"
          ],
          "name": "stdout"
        }
      ]
    },
    {
      "cell_type": "code",
      "metadata": {
        "id": "8D3pu3kK426k",
        "colab": {
          "base_uri": "https://localhost:8080/",
          "height": 788
        },
        "outputId": "5f1c5b4b-997f-4fc3-e920-0a24cd98a236"
      },
      "source": [
        "# Do not modify the code in this cell.\n",
        "import matplotlib.pyplot as plt\n",
        "%matplotlib inline\n",
        "\n",
        "try:\n",
        "    fig, ax = plt.subplots(figsize=(16, 9))\n",
        "    ax.plot(months, clothing_stores_revenue, label='Clothing stores revenue')\n",
        "    ax.plot(months, mail_order_revenue, label='Mail order companies revenue')\n",
        "    ax.set_xlabel('Date')\n",
        "    ax.set_ylabel('Percent, 2015=100')\n",
        "    ax.legend()\n",
        "    plt.show()\n",
        "except Exception as e:\n",
        "    print('There was an error creating the plot.\\n'\n",
        "          'Check if your lists are correctly named and assembled.\\n'\n",
        "          \"Here's your error, for your debugging pleasure.\")\n",
        "    raise e"
      ],
      "execution_count": 268,
      "outputs": [
        {
          "output_type": "stream",
          "text": [
            "There was an error creating the plot.\n",
            "Check if your lists are correctly named and assembled.\n",
            "Here's your error, for your debugging pleasure.\n"
          ],
          "name": "stdout"
        },
        {
          "output_type": "error",
          "ename": "NameError",
          "evalue": "ignored",
          "traceback": [
            "\u001b[0;31m---------------------------------------------------------------------------\u001b[0m",
            "\u001b[0;31mNameError\u001b[0m                                 Traceback (most recent call last)",
            "\u001b[0;32m<ipython-input-268-286a461d3879>\u001b[0m in \u001b[0;36m<module>\u001b[0;34m()\u001b[0m\n\u001b[1;32m     15\u001b[0m           \u001b[0;34m'Check if your lists are correctly named and assembled.\\n'\u001b[0m\u001b[0;34m\u001b[0m\u001b[0;34m\u001b[0m\u001b[0m\n\u001b[1;32m     16\u001b[0m           \"Here's your error, for your debugging pleasure.\")\n\u001b[0;32m---> 17\u001b[0;31m     \u001b[0;32mraise\u001b[0m \u001b[0me\u001b[0m\u001b[0;34m\u001b[0m\u001b[0;34m\u001b[0m\u001b[0m\n\u001b[0m",
            "\u001b[0;32m<ipython-input-268-286a461d3879>\u001b[0m in \u001b[0;36m<module>\u001b[0;34m()\u001b[0m\n\u001b[1;32m      5\u001b[0m \u001b[0;32mtry\u001b[0m\u001b[0;34m:\u001b[0m\u001b[0;34m\u001b[0m\u001b[0;34m\u001b[0m\u001b[0m\n\u001b[1;32m      6\u001b[0m     \u001b[0mfig\u001b[0m\u001b[0;34m,\u001b[0m \u001b[0max\u001b[0m \u001b[0;34m=\u001b[0m \u001b[0mplt\u001b[0m\u001b[0;34m.\u001b[0m\u001b[0msubplots\u001b[0m\u001b[0;34m(\u001b[0m\u001b[0mfigsize\u001b[0m\u001b[0;34m=\u001b[0m\u001b[0;34m(\u001b[0m\u001b[0;36m16\u001b[0m\u001b[0;34m,\u001b[0m \u001b[0;36m9\u001b[0m\u001b[0;34m)\u001b[0m\u001b[0;34m)\u001b[0m\u001b[0;34m\u001b[0m\u001b[0;34m\u001b[0m\u001b[0m\n\u001b[0;32m----> 7\u001b[0;31m     \u001b[0max\u001b[0m\u001b[0;34m.\u001b[0m\u001b[0mplot\u001b[0m\u001b[0;34m(\u001b[0m\u001b[0mmonths\u001b[0m\u001b[0;34m,\u001b[0m \u001b[0mclothing_stores_revenue\u001b[0m\u001b[0;34m,\u001b[0m \u001b[0mlabel\u001b[0m\u001b[0;34m=\u001b[0m\u001b[0;34m'Clothing stores revenue'\u001b[0m\u001b[0;34m)\u001b[0m\u001b[0;34m\u001b[0m\u001b[0;34m\u001b[0m\u001b[0m\n\u001b[0m\u001b[1;32m      8\u001b[0m     \u001b[0max\u001b[0m\u001b[0;34m.\u001b[0m\u001b[0mplot\u001b[0m\u001b[0;34m(\u001b[0m\u001b[0mmonths\u001b[0m\u001b[0;34m,\u001b[0m \u001b[0mmail_order_revenue\u001b[0m\u001b[0;34m,\u001b[0m \u001b[0mlabel\u001b[0m\u001b[0;34m=\u001b[0m\u001b[0;34m'Mail order companies revenue'\u001b[0m\u001b[0;34m)\u001b[0m\u001b[0;34m\u001b[0m\u001b[0;34m\u001b[0m\u001b[0m\n\u001b[1;32m      9\u001b[0m     \u001b[0max\u001b[0m\u001b[0;34m.\u001b[0m\u001b[0mset_xlabel\u001b[0m\u001b[0;34m(\u001b[0m\u001b[0;34m'Date'\u001b[0m\u001b[0;34m)\u001b[0m\u001b[0;34m\u001b[0m\u001b[0;34m\u001b[0m\u001b[0m\n",
            "\u001b[0;31mNameError\u001b[0m: name 'clothing_stores_revenue' is not defined"
          ]
        },
        {
          "output_type": "display_data",
          "data": {
            "image/png": "[encoded data removed]",
            "text/plain": [
              "<Figure size 1152x648 with 1 Axes>"
            ]
          },
          "metadata": {
            "tags": [],
            "needs_background": "light"
          }
        }
      ]
    },
    {
      "cell_type": "markdown",
      "metadata": {
        "id": "knDQuSqX426k"
      },
      "source": [
        "**8. How do the two branches compare? Discuss any yearly cycles you observe, as well as long-term developments. Also explain why you think these patterns are there. Pretend you are writing this to your supervisor or a client who asked you to analyze this dataset.**\n",
        "\n",
        "*TODO: Your answer here.*"
      ]
    },
    {
      "cell_type": "markdown",
      "metadata": {
        "id": "hImVulYY426l"
      },
      "source": [
        "## 3. Computing With Data\n",
        "\n",
        "### 3.1 Year Over Year Change\n",
        "\n",
        "Let's take a closer look at these two branches of retail: clothing stores and mail order companies. A commonly used metric in business is the year-over-year revenue change. It is computed like so:\n",
        "\n",
        "$$\\text{YoY}_\\text{month} = \\frac{\\text{Revenue}_\\text{month}}{\\text{Revenue}_\\text{same month last year}} \\times 100$$\n",
        "\n",
        "Search the web for a longer explanation of this term if you'd like one.\n",
        "\n",
        "**9. Why should we compare revenue for a particular month to the revenue of that same month, one year ago?**\n",
        "\n",
        "*TODO: Your answer here.*\n",
        "\n",
        "**10. In the code cell below, compute the year-over-year revenue change for every month, for both branches of the retail sector, each in their own new list. Skip the first year (why?). Put an `x` in the checkboxes when you're ready. Run the next cell to see a new plot for your data.**\n",
        "\n",
        "- [ ] Clothing stores $\\Longrightarrow$ `clothing_stores_yoy`\n",
        "- [ ] Mail order companies $\\Longrightarrow$ `mail_order_yoy`\n",
        "\n"
      ]
    },
    {
      "cell_type": "code",
      "metadata": {
        "id": "rzwx0zzD426m"
      },
      "source": [
        "# Your code here."
      ],
      "execution_count": null,
      "outputs": []
    },
    {
      "cell_type": "code",
      "metadata": {
        "id": "JYE54_DW426m"
      },
      "source": [
        "try:\n",
        "    fig, ax = plt.subplots(figsize=(16, 9))\n",
        "    ax.plot(months[12:], clothing_stores_yoy, label=\"Clothing stores' YoY\")\n",
        "    ax.plot(months[12:], mail_order_yoy, label=\"Mail order companies' YoY\")\n",
        "    ax.set_xlabel('Date')\n",
        "    ax.set_ylabel('YoY change, 2015=100')\n",
        "    ax.legend()\n",
        "    plt.show()\n",
        "except Exception as e:\n",
        "    print('There was an error creating the plot.\\n'\n",
        "          'Check if your lists are correctly named and assembled.\\n'\n",
        "          \"Here's your error, for your debugging pleasure.\")\n",
        "    raise e"
      ],
      "execution_count": null,
      "outputs": []
    },
    {
      "cell_type": "markdown",
      "metadata": {
        "id": "9g-vU3O2426n"
      },
      "source": [
        "**11. In the code cell below, find the best and worst months for both branches of the retail sector in terms of year-over-year revenue change. Print the branch, month and YoY in a nice and tidy way.**"
      ]
    },
    {
      "cell_type": "code",
      "metadata": {
        "id": "aSo0Vr0D426n"
      },
      "source": [
        "# Your code here."
      ],
      "execution_count": null,
      "outputs": []
    },
    {
      "cell_type": "markdown",
      "metadata": {
        "id": "BvJzZ0WK426o"
      },
      "source": [
        "### 3.2 Similarity Between Branches\n",
        "\n",
        "We've seen that the pattern for revenue is quite different for clothing stores and mail order companies. In other words: their revenues don't move up or down together. A way to make this observation more specific is to compute the **correlation coefficient**. It is a number between $-1$ and $1$ that describes the relation between two *random variables*. Here is how it works applied to our revenue numbers:\n",
        "\n",
        "- If the correlation coefficient for the revenue of two branches of the retail sector is $1$, their revenue is *positively correlated*. This means that when the revenue of branch A goes up, the revenue of branch B also goes up. In other words: the revenues for both branches go up together.\n",
        "- If the correlation coefficient is $-1$, the revenues of the two branches are *negatively correlated*. This means that if A's revenue goes up, B's revenue goes down. Similarly, if B's revenue goes up, A's revenue goes down. They move in the exact opposite direction.\n",
        "- If the correlation coefficient is $0$, there is no clear pattern between the revenues of both branches.\n",
        "\n",
        "Here's a table that summarizes this information:\n",
        "\n",
        "| Correlation coefficient | Meaning                              |\n",
        "|-------------------------|--------------------------------------|\n",
        "| $1$                     | Revenues go up together              |\n",
        "| $0$                     | No pattern                           |\n",
        "| $-1$                    | Revenues move in opposite directions |\n",
        "\n",
        "Note that there is a continuous scale between $-1$ and $1$! A correlation coefficient of $0.3$ indicates a somewhat positively correlated relationship.\n",
        "\n",
        "And here's an image that visualizes the correlation coefficient.\n",
        "\n",
        "<img src=\"https://upload.wikimedia.org/wikipedia/commons/d/d4/Correlation_examples2.svg\"/>\n",
        "\n",
        "We've provided a function `corrcoef` that computes the correlation coefficient for two lists.\n",
        "\n",
        "**11. In the code cell below, use the function `corrcoef` to compute the correlation coefficient for each pair of branches in our dataset. Then print a sorted table that shows each unique pair and their correlation coefficients. Sort by the correlation coefficient, in descending order. You can take inspiration from this table (but it doesn't have to look exactly like it):**\n",
        "\n",
        "```\n",
        "Coeff   Branch A                                          Branch B                                          \n",
        "===========================================================================================================\n",
        "0.98    4711, 472 Winkels in voedingsmiddelen             4711 Supermarkten                                 \n",
        "0.91    475 Winkels in overige huishoudwaren              4752 Winkels in doe-het-zelfartikelen             \n",
        "0.91    47528 Bouwmarkten                                 4752 Winkels in doe-het-zelfartikelen               \n",
        "```"
      ]
    },
    {
      "cell_type": "code",
      "metadata": {
        "id": "AhilR7RO426p"
      },
      "source": [
        "import numpy as np\n",
        "\n",
        "# Provided function. Use this to obtain the correlation coefficient for two lists.\n",
        "def corrcoef(branch_a, branch_b):\n",
        "    return np.corrcoef(branch_a, branch_b)[0, 1]"
      ],
      "execution_count": null,
      "outputs": []
    },
    {
      "cell_type": "markdown",
      "metadata": {
        "id": "rGTMbsOR426q"
      },
      "source": [
        "**12. Pick two correlation coefficients from the table you created and explain why you think these values are the way that they are. Be sure to pick two coefficients that are not close to each other.**\n",
        "\n",
        "*TODO: Your answer here.*\n",
        "\n",
        "**13. Imagine you are a very risk-averse investor shaping your portfolio of investments in the retail sector. How would you use the information in the table you created to minimize your investment risk? Which two branches of the retail sector would you invest in if you had to pick two? Use the correlation coefficient in your answer.**\n",
        "\n",
        "*TODO: Your answer here.*"
      ]
    },
    {
      "cell_type": "markdown",
      "metadata": {
        "id": "hMTNZfGI426r"
      },
      "source": [
        "## 4. Conclusion\n",
        "\n",
        "You made it! This was the Retail assignment. Before you hand it in: restart the kernel and run all the cells. Then save it to GitHub and share the link with us in the usual way."
      ]
    }
  ]
}